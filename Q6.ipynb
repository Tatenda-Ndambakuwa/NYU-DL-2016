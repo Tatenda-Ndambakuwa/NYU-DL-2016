{
 "cells": [
  {
   "cell_type": "code",
   "execution_count": 1,
   "metadata": {
    "collapsed": false
   },
   "outputs": [],
   "source": [
    "require 'nn';"
   ]
  },
  {
   "cell_type": "code",
   "execution_count": 2,
   "metadata": {
    "collapsed": true
   },
   "outputs": [],
   "source": [
    "i = 5\n",
    "o = 3\n",
    "d = 4"
   ]
  },
  {
   "cell_type": "code",
   "execution_count": 3,
   "metadata": {
    "collapsed": true
   },
   "outputs": [],
   "source": [
    "autoencoder = nn.Sequential()\n",
    "autoencoder:add(nn.Linear(i,o))\n",
    "autoencoder:add(nn.Sigmoid())\n",
    "autoencoder:add(nn.Linear(o,d))\n",
    "autoencoder:add(nn.Sigmoid());"
   ]
  },
  {
   "cell_type": "code",
   "execution_count": 4,
   "metadata": {
    "collapsed": false
   },
   "outputs": [
    {
     "data": {
      "text/plain": [
       "\n"
      ]
     },
     "execution_count": 4,
     "metadata": {},
     "output_type": "execute_result"
    }
   ],
   "source": [
    "autoencoder:zeroGradParameters()"
   ]
  },
  {
   "cell_type": "code",
   "execution_count": 5,
   "metadata": {
    "collapsed": true
   },
   "outputs": [],
   "source": [
    "inp = torch.randn(5)"
   ]
  },
  {
   "cell_type": "code",
   "execution_count": 6,
   "metadata": {
    "collapsed": false
   },
   "outputs": [],
   "source": [
    "out = autoencoder:forward(inp)"
   ]
  },
  {
   "cell_type": "code",
   "execution_count": 7,
   "metadata": {
    "collapsed": false
   },
   "outputs": [
    {
     "data": {
      "text/plain": [
       "0.01 *\n",
       "-1.1615\n",
       "-0.7341\n",
       "-0.1560\n",
       " 0.5619\n",
       "-0.3447\n",
       "[torch.DoubleTensor of size 5]\n",
       "\n"
      ]
     },
     "execution_count": 7,
     "metadata": {},
     "output_type": "execute_result"
    }
   ],
   "source": [
    "autoencoder:backward(inp, torch.ones(4))"
   ]
  },
  {
   "cell_type": "code",
   "execution_count": 8,
   "metadata": {
    "collapsed": false
   },
   "outputs": [
    {
     "data": {
      "text/plain": [
       "nn.Sequential {\n",
       "  [input -> (1) -> (2) -> (3) -> (4) -> output]\n",
       "  (1): nn.Linear(5 -> 3)\n",
       "  (2): nn.Sigmoid\n",
       "  (3): nn.Linear(3 -> 4)\n",
       "  (4): nn.Sigmoid\n",
       "}\n",
       "{\n",
       "  gradInput : DoubleTensor - size: 5\n",
       "  modules : \n",
       "    {\n",
       "      1 : \n",
       "        nn.Linear(5 -> 3)\n",
       "        {\n",
       "          gradBias : DoubleTensor - size: 3\n",
       "          weight : DoubleTensor - size: 3x5\n",
       "          gradWeight : DoubleTensor - size: 3x5\n",
       "          gradInput : DoubleTensor - size: 5\n",
       "          bias : DoubleTensor - size: 3\n",
       "          output : DoubleTensor - size: 3\n",
       "        }\n",
       "      2 : \n",
       "        nn.Sigmoid\n",
       "        {\n",
       "          gradInput : DoubleTensor - size: 3\n",
       "          output : DoubleTensor - size: 3\n",
       "        }\n",
       "      3 : \n",
       "        nn.Linear(3 -> 4)\n",
       "        {\n",
       "          gradBias : DoubleTensor - size: 4\n",
       "          weight : DoubleTensor - size: 4x3\n",
       "          gradWeight : DoubleTensor - size: 4x3\n",
       "          gradInput : DoubleTensor - size: 3\n",
       "          bias : DoubleTensor - size: 4\n",
       "          output : DoubleTensor - size: 4\n",
       "        }\n",
       "      4 : \n",
       "        nn.Sigmoid\n",
       "        {\n",
       "          gradInput : DoubleTensor - size: 4\n",
       "          output : DoubleTensor - size: 4\n",
       "        }\n",
       "    }\n",
       "  output : DoubleTensor - size: 4\n",
       "}\n"
      ]
     },
     "execution_count": 8,
     "metadata": {},
     "output_type": "execute_result"
    }
   ],
   "source": [
    "autoencoder"
   ]
  },
  {
   "cell_type": "code",
   "execution_count": 9,
   "metadata": {
    "collapsed": false
   },
   "outputs": [
    {
     "data": {
      "text/plain": [
       " 0.2475\n",
       " 0.2051\n",
       " 0.2403\n",
       " 0.2449\n",
       "[torch.DoubleTensor of size 4]\n",
       "\n"
      ]
     },
     "execution_count": 9,
     "metadata": {},
     "output_type": "execute_result"
    }
   ],
   "source": [
    "autoencoder.modules[4].gradInput"
   ]
  },
  {
   "cell_type": "markdown",
   "metadata": {},
   "source": [
    "$$\\sigma_2'(W'B+b') = A\\odot(1-A)\\odot\\frac{\\partial L}{\\partial A}$$"
   ]
  },
  {
   "cell_type": "code",
   "execution_count": 10,
   "metadata": {
    "collapsed": false
   },
   "outputs": [
    {
     "data": {
      "text/plain": [
       " 0.2475\n",
       " 0.2051\n",
       " 0.2403\n",
       " 0.2449\n",
       "[torch.DoubleTensor of size 4]\n",
       "\n"
      ]
     },
     "execution_count": 10,
     "metadata": {},
     "output_type": "execute_result"
    }
   ],
   "source": [
    "torch.cmul(torch.cmul(torch.ones(4)-autoencoder.output, autoencoder.output),torch.ones(4))"
   ]
  },
  {
   "cell_type": "markdown",
   "metadata": {},
   "source": [
    "$$\\frac{\\partial A}{\\partial b'} = \\sigma_2'(W'B+b')$$ "
   ]
  },
  {
   "cell_type": "code",
   "execution_count": 11,
   "metadata": {
    "collapsed": false
   },
   "outputs": [
    {
     "data": {
      "text/plain": [
       " 0.2475\n",
       " 0.2051\n",
       " 0.2403\n",
       " 0.2449\n",
       "[torch.DoubleTensor of size 4]\n",
       "\n"
      ]
     },
     "execution_count": 11,
     "metadata": {},
     "output_type": "execute_result"
    }
   ],
   "source": [
    "autoencoder.modules[3].gradBias"
   ]
  },
  {
   "cell_type": "markdown",
   "metadata": {},
   "source": [
    "$$\\frac{\\partial A}{\\partial W'} $$"
   ]
  },
  {
   "cell_type": "code",
   "execution_count": 12,
   "metadata": {
    "collapsed": false
   },
   "outputs": [
    {
     "data": {
      "text/plain": [
       " 0.1250  0.1315  0.1491\n",
       " 0.1036  0.1089  0.1235\n",
       " 0.1213  0.1276  0.1447\n",
       " 0.1236  0.1301  0.1475\n",
       "[torch.DoubleTensor of size 4x3]\n",
       "\n"
      ]
     },
     "execution_count": 12,
     "metadata": {},
     "output_type": "execute_result"
    }
   ],
   "source": [
    "autoencoder.modules[3].gradWeight"
   ]
  },
  {
   "cell_type": "markdown",
   "metadata": {},
   "source": [
    "$$\\frac{\\partial A}{\\partial W'} = \\sigma_2'(W'B+b')B^\\top$$"
   ]
  },
  {
   "cell_type": "code",
   "execution_count": 13,
   "metadata": {
    "collapsed": false
   },
   "outputs": [
    {
     "data": {
      "text/plain": [
       " 0.1250  0.1315  0.1491\n",
       " 0.1036  0.1089  0.1235\n",
       " 0.1213  0.1276  0.1447\n",
       " 0.1236  0.1301  0.1475\n",
       "[torch.DoubleTensor of size 4x3]\n",
       "\n"
      ]
     },
     "execution_count": 13,
     "metadata": {},
     "output_type": "execute_result"
    }
   ],
   "source": [
    "autoencoder.modules[4].gradInput:reshape(4,1)*autoencoder.modules[2].output:reshape(1,3)"
   ]
  },
  {
   "cell_type": "markdown",
   "metadata": {},
   "source": [
    "$$\\frac{\\partial A}{\\partial B}$$"
   ]
  },
  {
   "cell_type": "code",
   "execution_count": 14,
   "metadata": {
    "collapsed": false
   },
   "outputs": [
    {
     "data": {
      "text/plain": [
       "0.01 *\n",
       " 4.4624\n",
       " 9.7010\n",
       "-0.8921\n",
       "[torch.DoubleTensor of size 3]\n",
       "\n"
      ]
     },
     "execution_count": 14,
     "metadata": {},
     "output_type": "execute_result"
    }
   ],
   "source": [
    "autoencoder.modules[3].gradInput"
   ]
  },
  {
   "cell_type": "markdown",
   "metadata": {},
   "source": [
    "$$\\frac{\\partial A}{\\partial B} = W^\\top \\sigma_2'(W'B+b')$$"
   ]
  },
  {
   "cell_type": "code",
   "execution_count": 15,
   "metadata": {
    "collapsed": false
   },
   "outputs": [
    {
     "data": {
      "text/plain": [
       "0.01 *\n",
       "  4.4624\n",
       "  9.7010\n",
       " -0.8921\n",
       "[torch.DoubleTensor of size 3x1]\n",
       "\n"
      ]
     },
     "execution_count": 15,
     "metadata": {},
     "output_type": "execute_result"
    }
   ],
   "source": [
    "autoencoder.modules[3].weight:transpose(1,2)*autoencoder.modules[4].gradInput:reshape(4,1)"
   ]
  },
  {
   "cell_type": "markdown",
   "metadata": {},
   "source": [
    "$$\\sigma_1'(Wx+b) = B\\odot(1-B)\\odot\\frac{\\partial A}{\\partial B}$$"
   ]
  },
  {
   "cell_type": "code",
   "execution_count": 16,
   "metadata": {
    "collapsed": false
   },
   "outputs": [
    {
     "data": {
      "text/plain": [
       "0.01 *\n",
       " 1.1155\n",
       " 2.4158\n",
       "-0.2137\n",
       "[torch.DoubleTensor of size 3]\n",
       "\n"
      ]
     },
     "execution_count": 16,
     "metadata": {},
     "output_type": "execute_result"
    }
   ],
   "source": [
    "torch.cmul(torch.cmul(torch.ones(3)-autoencoder.modules[2].output, autoencoder.modules[2].output),autoencoder.modules[3].gradInput)"
   ]
  },
  {
   "cell_type": "markdown",
   "metadata": {},
   "source": [
    "$$\\frac{\\partial B}{\\partial b} = \\sigma_1'(Wx+b)$$"
   ]
  },
  {
   "cell_type": "code",
   "execution_count": 17,
   "metadata": {
    "collapsed": false
   },
   "outputs": [
    {
     "data": {
      "text/plain": [
       "0.01 *\n",
       " 1.1155\n",
       " 2.4158\n",
       "-0.2137\n",
       "[torch.DoubleTensor of size 3]\n",
       "\n"
      ]
     },
     "execution_count": 17,
     "metadata": {},
     "output_type": "execute_result"
    }
   ],
   "source": [
    "autoencoder.modules[1].gradBias"
   ]
  },
  {
   "cell_type": "markdown",
   "metadata": {},
   "source": [
    "$$\\frac{\\partial B}{\\partial W}$$"
   ]
  },
  {
   "cell_type": "code",
   "execution_count": 18,
   "metadata": {
    "collapsed": false
   },
   "outputs": [
    {
     "data": {
      "text/plain": [
       "0.01 *\n",
       " -1.7765 -0.5530 -1.2678 -1.4382  0.0477\n",
       " -3.8475 -1.1976 -2.7457 -3.1147  0.1033\n",
       "  0.3404  0.1059  0.2429  0.2755 -0.0091\n",
       "[torch.DoubleTensor of size 3x5]\n",
       "\n"
      ]
     },
     "execution_count": 18,
     "metadata": {},
     "output_type": "execute_result"
    }
   ],
   "source": [
    "autoencoder.modules[1].gradWeight"
   ]
  },
  {
   "cell_type": "markdown",
   "metadata": {},
   "source": [
    "$$\\frac{\\partial B}{\\partial W} = \\sigma_1'(Wx+b)x^\\top$$"
   ]
  },
  {
   "cell_type": "code",
   "execution_count": 19,
   "metadata": {
    "collapsed": false
   },
   "outputs": [
    {
     "data": {
      "text/plain": [
       "0.01 *\n",
       " -1.7765 -0.5530 -1.2678 -1.4382  0.0477\n",
       " -3.8475 -1.1976 -2.7457 -3.1147  0.1033\n",
       "  0.3404  0.1059  0.2429  0.2755 -0.0091\n",
       "[torch.DoubleTensor of size 3x5]\n",
       "\n"
      ]
     },
     "execution_count": 19,
     "metadata": {},
     "output_type": "execute_result"
    }
   ],
   "source": [
    "autoencoder.modules[2].gradInput:reshape(3,1)*inp:reshape(1,5)"
   ]
  }
 ],
 "metadata": {
  "kernelspec": {
   "display_name": "iTorch",
   "language": "lua",
   "name": "itorch"
  },
  "language_info": {
   "name": "lua",
   "version": "5.1"
  }
 },
 "nbformat": 4,
 "nbformat_minor": 0
}
